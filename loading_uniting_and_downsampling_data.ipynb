{
  "nbformat": 4,
  "nbformat_minor": 0,
  "metadata": {
    "colab": {
      "provenance": [],
      "authorship_tag": "ABX9TyMdT5niRLcbiEZuZy9AC6mj",
      "include_colab_link": true
    },
    "kernelspec": {
      "name": "python3",
      "display_name": "Python 3"
    },
    "language_info": {
      "name": "python"
    }
  },
  "cells": [
    {
      "cell_type": "markdown",
      "metadata": {
        "id": "view-in-github",
        "colab_type": "text"
      },
      "source": [
        "<a href=\"https://colab.research.google.com/github/YanivAmir/stock-predicition-CNN/blob/main/loading_uniting_and_downsampling_data.ipynb\" target=\"_parent\"><img src=\"https://colab.research.google.com/assets/colab-badge.svg\" alt=\"Open In Colab\"/></a>"
      ]
    },
    {
      "cell_type": "code",
      "execution_count": null,
      "metadata": {
        "colab": {
          "base_uri": "https://localhost:8080/"
        },
        "id": "hhaILbCdJDml",
        "outputId": "8899ba95-4539-4a3d-e74a-593fea75a118"
      },
      "outputs": [
        {
          "output_type": "stream",
          "name": "stdout",
          "text": [
            "Drive already mounted at /content/drive; to attempt to forcibly remount, call drive.mount(\"/content/drive\", force_remount=True).\n"
          ]
        }
      ],
      "source": [
        "# import yfinance as yf\n",
        "# import yahoo_fin.stock_info as si\n",
        "from datetime import timedelta\n",
        "import matplotlib.pyplot as plt\n",
        "import seaborn as sns\n",
        "import pickle\n",
        "import random\n",
        "# import mplfinance as mpf\n",
        "from datetime import datetime\n",
        "from collections import Counter\n",
        "import pandas as pd #pip install pandas==1.3.0\n",
        "import numpy as np\n",
        "import pickle\n",
        "from sklearn.preprocessing import MinMaxScaler\n",
        "from sklearn.model_selection import train_test_split\n",
        "import logging\n",
        "import re\n",
        "import seaborn as sns\n",
        "from dateutil.relativedelta import relativedelta\n",
        "from copy import deepcopy\n",
        "import warnings\n",
        "import time\n",
        "\n",
        "import torch\n",
        "import torch.nn as nn\n",
        "import torch.nn.functional as F\n",
        "import torchvision\n",
        "import torchvision.transforms as T\n",
        "from torch.utils.data import DataLoader,TensorDataset\n",
        "from torchsummary import summary\n",
        "import torch.cuda.amp as amp\n",
        "from torch.cuda.amp import autocast, GradScaler\n",
        "\n",
        "warnings.filterwarnings('ignore')\n",
        "from google.colab import drive\n",
        "drive.mount('/content/drive')\n",
        "savePath ='/content/drive/MyDrive/myStocksSept2024/'"
      ]
    },
    {
      "cell_type": "markdown",
      "source": [
        "### Loading and uniting the separate data file of >10% and below <-10%\n",
        "#### candlesticks and market cap are uniting into 2-channel images"
      ],
      "metadata": {
        "id": "bZwmOiGQPGBo"
      }
    },
    {
      "cell_type": "code",
      "source": [
        "def loadSingleExtremeDataFile(path, name,strt,end):\n",
        "  data = np.load(path+name+'_asList_'+str(strt)+'-'+str(end)+'_24Sept2024.npz')\n",
        "  data_array = np.array([data[key] for key in data])\n",
        "  return(torch.from_numpy(data_array).half())\n",
        "\n",
        "def loadExtremeTargetsData(path,strts,pool=1):\n",
        "  images_list,labels_list = [],[]\n",
        "  for strt,end in zip(strts[:-1],strts[1:]):\n",
        "    print(strt)\n",
        "    stockImgs = F.avg_pool2d(loadSingleExtremeDataFile(path,'StockImgs',strt,end),pool)\n",
        "    capImgs = F.avg_pool2d(loadSingleExtremeDataFile(path,'CapImgs',strt,end),pool)\n",
        "    print(f'Plot sizes after avg pooling : {stockImgs.shape}')\n",
        "    images = torch.cat((stockImgs.unsqueeze(1), capImgs.unsqueeze(1)), dim=1)\n",
        "    labels = loadSingleExtremeDataFile(path,'Targets',strt,end)\n",
        "    images_list.append(images)\n",
        "    labels_list.append(labels)\n",
        "  images = torch.cat((images_list), dim=0)\n",
        "  labels = torch.cat((labels_list), dim=0)\n",
        "  return(images,labels)\n"
      ],
      "metadata": {
        "id": "Se-P2AIOJVYn"
      },
      "execution_count": null,
      "outputs": []
    },
    {
      "cell_type": "markdown",
      "source": [
        "two seperate date file are generated:"
      ],
      "metadata": {
        "id": "ZYYE65GaPlKG"
      }
    },
    {
      "cell_type": "code",
      "source": [
        "extremeTargetIndx = [0,118,271,456,638,811,841,1000,1174,1342,1526,1594,1851,2000]\n",
        "images,targets= loadExtremeTargetsData(savePath,extremeTargetIndx,pool=3)\n",
        "print(f'Images sizes after uniting data : {images.shape}')\n",
        "print(f'Targets sizes after uniting data : {targets.shape}')\n",
        "torch.save(images, save+ath+'images_stocks0-2000_images0-54383_pool3_asHalf.pt')\n",
        "torch.save(targets,savePath+'labels_stocks0-2000_images0-54383_pool3_asHalf.pt')\n",
        "\n",
        "extremeTargetIndx = [2000,2291,2500,2678,2738,3000,3167,3315]\n",
        "images,targets= loadExtremeTargetsData(savePath,extremeTargetIndx,pool=3)\n",
        "print(f'Images sizes after uniting data : {images.shape}')\n",
        "print(f'Targets sizes after uniting data : {targets.shape}')\n",
        "torch.save(images, savePath+'images_stocks2000-3315_images54383-77210_pool3_asHalf.pt')\n",
        "torch.save(targets,savePath+'labels_stocks2000-3315_images54383-77210_pool3_asHalf.pt')\n"
      ],
      "metadata": {
        "id": "JMt6yUfyJhux"
      },
      "execution_count": null,
      "outputs": []
    },
    {
      "cell_type": "markdown",
      "source": [
        "united into a single data file at float16"
      ],
      "metadata": {
        "id": "kOnhQjWgPkiz"
      }
    },
    {
      "cell_type": "code",
      "source": [
        "images0 = torch.load(savePath+'images_stocks0-2000_images0-54383_pool3.pt').half()\n",
        "targets0 = torch.load(savePath+'labels_stocks0-2000_images0-54383_pool3.pt').half()\n",
        "images1 = torch.load(savePath+'images_stocks2000-3315_images54383-77210_pool3.pt').half()\n",
        "targets1 = torch.load(savePath+'labels_stocks2000-3315_images54383-77210_pool3.pt').half()\n",
        "images0 = torch.cat((images0, images1), dim=0)\n",
        "targets0 = torch.cat((targets0, targets1), dim=0)\n",
        "print(f'Images sizes after uniting data : {images.shape}')\n",
        "print(f'Targets sizes after uniting data : {targets.shape}')\n",
        "\n",
        "torch.save(targets0, savePath+'labels_stocks0-3315_images0-77210_pool3_asHalf.pt')\n",
        "torch.save(images0, savePath+'images_stocks0-3315_images0-77210_pool3_asHalf.pt')"
      ],
      "metadata": {
        "id": "Jrtxo4q2NzFx"
      },
      "execution_count": null,
      "outputs": []
    },
    {
      "cell_type": "markdown",
      "source": [
        "### Loading and uniting the separate data file of >5% and below <5%\n",
        "#### candlesticks and market cap are uniting into 2-channel images"
      ],
      "metadata": {
        "id": "eojkLDN_P51O"
      }
    },
    {
      "cell_type": "code",
      "source": [
        "def loadSingleZeroTargetsDataFile(path, name,strt,end):\n",
        "  data = np.load(path+name+'_asList_'+str(strt)+'-'+str(end)+'_24Sept2024_targetsBelow5.npz')\n",
        "  data_array = np.array([data[key] for key in data])\n",
        "  return(torch.from_numpy(data_array).half())\n",
        "\n",
        "def loadZeroTargetsData(path,startindices,endindiceses,pool=1):\n",
        "  images_list,labels_list = [],[]\n",
        "  for strt,end_indices in zip(startindices,endindiceses):\n",
        "    for end in end_indices:\n",
        "      print(strt,' ',end)\n",
        "      stockImgs = F.avg_pool2d(loadSingleZeroTargetsDataFile(path,'StockImgs',strt,end),pool)\n",
        "      capImgs = F.avg_pool2d(loadSingleZeroTargetsDataFile(path,'CapImgs',strt,end),pool)\n",
        "      images = torch.cat((stockImgs.unsqueeze(1), capImgs.unsqueeze(1)), dim=1)\n",
        "      labels = loadSingleZeroTargetsDataFile(path,'Targets',strt,end)\n",
        "      print(images.shape)\n",
        "      images_list.append(images)\n",
        "      labels_list.append(labels)\n",
        "      print(len(labels_list))\n",
        "  images = torch.cat((images_list), dim=0)\n",
        "  labels = torch.cat((labels_list), dim=0)\n",
        "  return(images,labels)"
      ],
      "metadata": {
        "id": "6ArRbbL8P2Aw"
      },
      "execution_count": null,
      "outputs": []
    },
    {
      "cell_type": "markdown",
      "source": [
        "two seperate date file are generated as float16:\n"
      ],
      "metadata": {
        "id": "JZV7uIUEQF8A"
      }
    },
    {
      "cell_type": "code",
      "source": [
        "zerosStartIndices_1 = [0,195,569,1362,1500,1951]\n",
        "zerosEndIndiceses_1= [\n",
        "  [95,195],\n",
        "  [255,317,384,448,513,569],\n",
        "  [636,697,763,828,895,963,1034,1100,1163,1229,1295,1362],\n",
        "  [1428,1491,1499],\n",
        "  [1556,1628,1679,1734,1789,1843,1897,1951],\n",
        "  [1999]]\n",
        "zerosStartIndices_2 = [2000,2637,2797,2850,3000]\n",
        "zerosEndIndiceses_2= [\n",
        "  [2058,2112,2163,2213,2264,2319,2374,2426,2476,2530,2584,2637],\n",
        "  [2686,2739,2797],\n",
        "  [2849],\n",
        "  [2903,2956,2999],\n",
        "  [3057,3215,3269,3315,3269,3315]\n",
        "  ]\n",
        "\n",
        "images,targets= loadZeroTargetsData(savePath,zerosStartIndices_1,zerosEndIndiceses_1,pool=3)\n",
        "torch.save(targets, savePath+'labels_stocks0-2000_targetsBelow5_pool3_asHalf.pt')\n",
        "torch.save(images, savePath+'images_stocks0-2000_targetsBelow5_pool3_asHalf.pt')\n",
        "print(f'Images sizes after uniting data : {images.shape}')\n",
        "print(f'Targets sizes after uniting data : {targets.shape}')\n",
        "images,targets = [],[]\n",
        "images,targets= loadZeroTargetsData(savePath,zerosStartIndices_2,zerosEndIndiceses_2,pool=3)\n",
        "torch.save(targets, savePath+'labels_stocks2000-3315_targetsBelow5_pool3_asHalf.pt')\n",
        "torch.save(images, savePath+'images_stocks2000-3315_targetsBelow5_pool3_asHalf.pt')\n",
        "print(f'Images sizes after uniting data : {images.shape}')\n",
        "print(f'Targets sizes after uniting data : {targets.shape}')"
      ],
      "metadata": {
        "id": "SXzKkxvuJVhB"
      },
      "execution_count": null,
      "outputs": []
    },
    {
      "cell_type": "markdown",
      "source": [
        "to generate a more balanced dataset or equally numbered labels:\n",
        "\n",
        "-0.3 < targets < -0.1\n",
        "-0.05 < targets < 0.05\n",
        "0.1 < targets < 0.3"
      ],
      "metadata": {
        "id": "i1xJiuZQQJGL"
      }
    },
    {
      "cell_type": "code",
      "source": [
        "images0 = torch.load(savePath+'images_stocks0-2000_images0-54383_pool3.pt').half()[::2]\n",
        "targets0 = torch.load(savePath+'labels_stocks0-2000_images0-54383_pool3.pt').half()[::2]\n",
        "images1 = torch.load(savePath+'images_stocks2000-3315_images54383-77210_pool3.pt').half()[::2]\n",
        "targets1 = torch.load(savePath+'labels_stocks2000-3315_images54383-77210_pool3.pt').half()[::2]\n",
        "images0 = torch.cat((images0, images1), dim=0)\n",
        "targets0 = torch.cat((targets0, targets1), dim=0)\n",
        "print(f'Images sizes after uniting data : {images0.shape}')\n",
        "print(f'Targets sizes after uniting data : {targets0.shape}')\n",
        "images1=[]\n",
        "images2 = torch.load(savePath+'images_stocks0-2000_targetsBelow5_pool3_asHalf.pt').half()[::8]\n",
        "targets2 = torch.load(savePath+'labels_stocks0-2000_targetsBelow5_pool3_asHalf.pt').half()[::8]\n",
        "images3 = torch.load(savePath+'images_stocks2000-3315_targetsBelow5_pool3_asHalf.pt').half()[::8]\n",
        "targets3 = torch.load(savePath+'labels_stocks2000-3315_targetsBelow5_pool3_asHalf.pt').half()[::8]\n",
        "images2 = torch.cat((images2, images3), dim=0)\n",
        "targets2 = torch.cat((targets2, targets3), dim=0)\n",
        "print(f'Images sizes after uniting data : {images2.shape}')\n",
        "print(f'Targets sizes after uniting data : {targets2.shape}')\n",
        "images3 = []\n",
        "images2 = torch.cat((images0, images2), dim=0)\n",
        "targets2 = torch.cat((targets0, targets2), dim=0)\n",
        "images0=[]\n",
        "print(f'Images sizes after uniting data : {images2.shape}')\n",
        "print(f'Targets sizes after uniting data : {targets2.shape}')\n",
        "\n",
        "torch.save(targets2, savePath+'labels_allStocks_midAndExtremes_morebalanced_pool3_asHalf.pt')\n",
        "torch.save(images2, savePath+'images_allStocks_midAndExtremes_morebalanced_pool3_asHalf.pt')"
      ],
      "metadata": {
        "id": "_2Ndj82SJVjn"
      },
      "execution_count": null,
      "outputs": []
    },
    {
      "cell_type": "code",
      "source": [
        "targets = torch.load(savePath+'labels_allStocks_midAndExtremes_morebalanced_pool3_asHalf.pt')\n",
        "images = torch.load(savePath+'images_allStocks_midAndExtremes_morebalanced_pool3_asHalf.pt')\n",
        "print(f'Images sizes after uniting data : {images.shape}')\n",
        "print(f'Targets sizes after uniting data : {targets.shape}')"
      ],
      "metadata": {
        "id": "qERiWX68JVls"
      },
      "execution_count": null,
      "outputs": []
    },
    {
      "cell_type": "markdown",
      "source": [
        "to generate a more equally volume reduced dataset:"
      ],
      "metadata": {
        "id": "KSduGob3RLI4"
      }
    },
    {
      "cell_type": "code",
      "source": [
        "images0 = torch.load(savePath+'images_stocks0-2000_images0-54383_pool3.pt').half()[::3]\n",
        "targets0 = torch.load(savePath+'labels_stocks0-2000_images0-54383_pool3.pt').half()[::3]\n",
        "images1 = torch.load(savePath+'images_stocks2000-3315_images54383-77210_pool3.pt').half()[::3]\n",
        "targets1 = torch.load(savePath+'labels_stocks2000-3315_images54383-77210_pool3.pt').half()[::3]\n",
        "images0 = torch.cat((images0, images1), dim=0)\n",
        "targets0 = torch.cat((targets0, targets1), dim=0)\n",
        "print(f'Images sizes after uniting data : {images0.shape}')\n",
        "print(f'Targets sizes after uniting data : {targets0.shape}')\n",
        "images1=[]\n",
        "images2 = torch.load(savePath+'images_stocks0-2000_targetsBelow5_pool3_asHalf.pt').half()[::3]\n",
        "targets2 = torch.load(savePath+'labels_stocks0-2000_targetsBelow5_pool3_asHalf.pt').half()[::3]\n",
        "images3 = torch.load(savePath+'images_stocks2000-3315_targetsBelow5_pool3_asHalf.pt').half()[::3]\n",
        "targets3 = torch.load(savePath+'labels_stocks2000-3315_targetsBelow5_pool3_asHalf.pt').half()[::3]\n",
        "images2 = torch.cat((images2, images3), dim=0)\n",
        "targets2 = torch.cat((targets2, targets3), dim=0)\n",
        "print(f'Images sizes after uniting data : {images2.shape}')\n",
        "print(f'Targets sizes after uniting data : {targets2.shape}')\n",
        "images3 = []\n",
        "images2 = torch.cat((images0, images2), dim=0)\n",
        "targets2 = torch.cat((targets0, targets2), dim=0)\n",
        "images0=[]\n",
        "print(f'Images sizes after uniting data : {images2.shape}')\n",
        "print(f'Targets sizes after uniting data : {targets2.shape}')\n",
        "\n",
        "torch.save(targets2, savePath+'labels_allStocks_midAndExtremes_every3rdImg_pool3_asHalf.pt')\n",
        "torch.save(images2, savePath+'images_allStocks_midAndExtremes_every3rdImg_pool3_asHalf.pt')"
      ],
      "metadata": {
        "id": "udcEVo10Oj1R"
      },
      "execution_count": null,
      "outputs": []
    },
    {
      "cell_type": "code",
      "source": [
        "images = torch.load(savePath+'images_allStocks_midAndExtremes_every3rdImg_pool3_asHalf.pt')\n",
        "targets = torch.load(savePath+'labels_allStocks_midAndExtremes_every3rdImg_pool3_asHalf.pt')\n",
        "print(f'Images sizes after uniting data : {images.shape}')\n",
        "print(f'Targets sizes after uniting data : {targets.shape}')"
      ],
      "metadata": {
        "id": "dg3RX4kQOj4W"
      },
      "execution_count": null,
      "outputs": []
    },
    {
      "cell_type": "code",
      "source": [],
      "metadata": {
        "id": "u94fMconOj7K"
      },
      "execution_count": null,
      "outputs": []
    }
  ]
}