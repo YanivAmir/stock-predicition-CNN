{
  "cells": [
    {
      "cell_type": "markdown",
      "metadata": {
        "id": "view-in-github",
        "colab_type": "text"
      },
      "source": [
        "<a href=\"https://colab.research.google.com/github/YanivAmir/stock-predicition-CNN/blob/main/gather_historical_stock_data_from_tradingview.ipynb\" target=\"_parent\"><img src=\"https://colab.research.google.com/assets/colab-badge.svg\" alt=\"Open In Colab\"/></a>"
      ]
    },
    {
      "cell_type": "code",
      "execution_count": null,
      "id": "0d33070b",
      "metadata": {
        "id": "0d33070b"
      },
      "outputs": [],
      "source": [
        "from tvDatafeed import TvDatafeed, Interval\n",
        "import yfinance as yf\n",
        "import yahoo_fin.stock_info as si\n",
        "from datetime import timedelta\n",
        "import matplotlib.pyplot as plt\n",
        "import pickle\n",
        "import random\n",
        "import datetime\n",
        "import pandas as pd\n",
        "import numpy as np\n",
        "import pickle\n",
        "from sklearn.preprocessing import MinMaxScaler\n",
        "import logging\n",
        "import re\n",
        "tv = TvDatafeed(\"janivamir\",\"########\")"
      ]
    },
    {
      "cell_type": "code",
      "execution_count": null,
      "id": "0dabd200",
      "metadata": {
        "id": "0dabd200"
      },
      "outputs": [],
      "source": [
        "savePath ='/path/to/save/data/'\n",
        "other_tickers = si.tickers_other()\n",
        "nasdaq_tickers = si.tickers_nasdaq()"
      ]
    },
    {
      "cell_type": "code",
      "execution_count": null,
      "id": "cc4fde31",
      "metadata": {
        "id": "cc4fde31"
      },
      "outputs": [],
      "source": [
        "def gatherData(tickers,exchange,year, month, day,idx_start):\n",
        "    date = str(day)+str(month)+str(year)\n",
        "    data={}\n",
        "    for idx,ticker in enumerate(tickers):\n",
        "        if idx%100==0:\n",
        "            print('\\n'+str(idx),end = '\\r', flush=True)\n",
        "        if idx%500==0:\n",
        "            print('\\nsaving block '+str(idx_start+idx))\n",
        "            with open(savePath+'TVstockData_'+exchange+'_'+date+'_'+str(idx_start+idx)+'.pickle', 'wb') as handle:\n",
        "                pickle.dump(data, handle)\n",
        "            data={}\n",
        "        if len(ticker) <5: #no small caps with tickers longer than 4 chars\n",
        "            print(ticker, end = '\\r', flush=True)\n",
        "            logging.getLogger('tvDatafeed.main').setLevel(logging.CRITICAL)\n",
        "            data[ticker] = tv.get_hist(symbol=ticker,exchange=exchange,interval=Interval.in_1_hour,n_bars=5000) #5000 is the maximum time point allowed\n",
        "            if data[ticker] is None or data[ticker].index[-1].date() != datetime.date(year, month, day): # remove tickers that are not recent\n",
        "                del data[ticker]\n",
        "                continue\n",
        "            data[ticker]['cap'] = data[ticker].close * data[ticker].volume #market cap\n",
        "            data[ticker]['wide_range'] = np.abs(data[ticker].high - data[ticker].low) / data[ticker].open  # movement volatility total as fraction of price\n",
        "            data[ticker]['narrow_range/wide_range'] = np.abs(data[ticker].close - data[ticker].open) / np.abs(data[ticker].high - data[ticker].low)  # movement final volatility as fraction of total volatility\n",
        "            data[ticker].fillna(0, inplace=True)\n",
        "\n",
        "    print('\\nfinal '+str(idx_start+idx+1))\n",
        "    with open(savePath+'TVstockData_'+exchange+'_'+date+'_final_'+str(idx_start+idx)+'.pickle', 'wb') as handle:\n",
        "        pickle.dump(data, handle)\n",
        "    return data\n",
        ""
      ]
    },
    {
      "cell_type": "code",
      "execution_count": null,
      "id": "c17115e0",
      "metadata": {
        "id": "c17115e0"
      },
      "outputs": [],
      "source": [
        "idx_start=0\n",
        "data = gatherData(other_tickers,'NYSE',2024,9,17,0)\n",
        "\n",
        "idx_start=3000\n",
        "tickers_left= other_tickers[idx_start:]\n",
        "data = gatherData(tickers_left,'NYSE',2024,9,17,idx_start)\n",
        "\n",
        "idx_start = 0\n",
        "data = gatherData(nasdaq_tickers,'NASDAQ',2024,9,18,idx_start)\n",
        "\n",
        "idx_start = 3700\n",
        "data = gatherData(nasdaq_tickers[idx_start:],'NASDAQ',2024,9,20,idx_start)"
      ]
    },
    {
      "cell_type": "code",
      "source": [],
      "metadata": {
        "id": "cAPvIVldqxfk"
      },
      "id": "cAPvIVldqxfk",
      "execution_count": null,
      "outputs": []
    },
    {
      "cell_type": "code",
      "source": [],
      "metadata": {
        "id": "mINXOMs9qxxt"
      },
      "id": "mINXOMs9qxxt",
      "execution_count": null,
      "outputs": []
    },
    {
      "cell_type": "code",
      "source": [],
      "metadata": {
        "id": "fWj_EGx-qyF3"
      },
      "id": "fWj_EGx-qyF3",
      "execution_count": null,
      "outputs": []
    },
    {
      "cell_type": "code",
      "source": [],
      "metadata": {
        "id": "pjK1POebqyQX"
      },
      "id": "pjK1POebqyQX",
      "execution_count": null,
      "outputs": []
    }
  ],
  "metadata": {
    "kernelspec": {
      "display_name": "Python 3",
      "language": "python",
      "name": "python3"
    },
    "language_info": {
      "codemirror_mode": {
        "name": "ipython",
        "version": 3
      },
      "file_extension": ".py",
      "mimetype": "text/x-python",
      "name": "python",
      "nbconvert_exporter": "python",
      "pygments_lexer": "ipython3",
      "version": "3.8.3"
    },
    "colab": {
      "provenance": [],
      "include_colab_link": true
    }
  },
  "nbformat": 4,
  "nbformat_minor": 5
}